{
 "cells": [
  {
   "cell_type": "code",
   "execution_count": 1,
   "metadata": {},
   "outputs": [],
   "source": [
    "import numpy as np\n",
    "from matplotlib import pyplot as pl\n",
    "import os\n",
    "import scipy.io.wavfile as wav\n",
    "\n",
    "import mlp_backprop_momentum as mlp\n",
    "import k_fold_cross_validation as cv\n",
    "\n",
    "%matplotlib inline"
   ]
  },
  {
   "cell_type": "code",
   "execution_count": 2,
   "metadata": {},
   "outputs": [],
   "source": [
    "PATH = './vowels/'\n",
    "\n",
    "SAMPLE_RATE = 24000\n",
    "\n",
    "EPOCHS = 100\n",
    "K = 5\n",
    "LEARNING_RATE = 0.001\n",
    "MOMENTUM = 0.5\n",
    "N_HIDDEN_NEURONS = 2\n",
    "N_INPUT_NEURONS = 13"
   ]
  },
  {
   "cell_type": "code",
   "execution_count": 3,
   "metadata": {},
   "outputs": [],
   "source": [
    "from python_speech_features import mfcc"
   ]
  },
  {
   "cell_type": "code",
   "execution_count": 4,
   "metadata": {},
   "outputs": [],
   "source": [
    "files = [file for file in os.listdir(PATH) if file.endswith(\".wav\")]\n",
    "all_X = []\n",
    "for file in files:\n",
    "    sample_rate, data = wav.read(os.path.join(PATH, file))\n",
    "    all_X.append([file[:-4], data])\n",
    "for X in all_X:\n",
    "    first_letter = X[0][0]\n",
    "    if first_letter == \"n\":\n",
    "        X.append(1)\n",
    "    else:\n",
    "        X.append(-1)\n",
    "    if X[0][1] == 'k':\n",
    "        X.append(0)\n",
    "    else:\n",
    "        if X[0][2] == 'f':\n",
    "            X.append(1)\n",
    "        else:\n",
    "            X.append(-1)"
   ]
  },
  {
   "cell_type": "code",
   "execution_count": 5,
   "metadata": {},
   "outputs": [],
   "source": [
    "natural_mf = [X for X in all_X if X[2]== 1 and X[3]!=0]"
   ]
  },
  {
   "cell_type": "code",
   "execution_count": 6,
   "metadata": {},
   "outputs": [],
   "source": [
    "ceps_array = []\n",
    "\n",
    "def compute_mfcc_average(data):\n",
    "    return np.average(mfcc(data[1], samplerate=SAMPLE_RATE, nfft=1024), axis = 0)\n",
    "\n",
    "ceps_array=([compute_mfcc_average(X) for X in natural_mf])"
   ]
  },
  {
   "cell_type": "code",
   "execution_count": 7,
   "metadata": {},
   "outputs": [],
   "source": [
    "label_array = ([X[3] for X in natural_mf])"
   ]
  },
  {
   "cell_type": "code",
   "execution_count": 8,
   "metadata": {},
   "outputs": [],
   "source": [
    "nn = mlp.MLP([N_INPUT_NEURONS,N_HIDDEN_NEURONS,1], 'tanh')\n",
    "nn.init_weights()\n",
    "MSE = nn.fit((ceps_array, label_array),\n",
    "                                learning_rate=LEARNING_RATE,\n",
    "                                momentum=MOMENTUM,\n",
    "                                epochs=EPOCHS)"
   ]
  },
  {
   "cell_type": "code",
   "execution_count": 9,
   "metadata": {},
   "outputs": [
    {
     "data": {
      "image/png": "[encoded data removed]",
      "text/plain": [
       "<Figure size 432x288 with 1 Axes>"
      ]
     },
     "metadata": {
      "needs_background": "light"
     },
     "output_type": "display_data"
    }
   ],
   "source": [
    "pl.plot(MSE, c='b')\n",
    "pl.ylim(0,1)\n",
    "pl.xlabel('Epochs')\n",
    "pl.ylabel('MSE')\n",
    "pl.title('2 neurons')\n",
    "pl.grid()"
   ]
  },
  {
   "cell_type": "code",
   "execution_count": null,
   "metadata": {},
   "outputs": [],
   "source": []
  }
 ],
 "metadata": {
  "kernelspec": {
   "display_name": "Python 3",
   "language": "python",
   "name": "python3"
  },
  "language_info": {
   "codemirror_mode": {
    "name": "ipython",
    "version": 3
   },
   "file_extension": ".py",
   "mimetype": "text/x-python",
   "name": "python",
   "nbconvert_exporter": "python",
   "pygments_lexer": "ipython3",
   "version": "3.7.7"
  }
 },
 "nbformat": 4,
 "nbformat_minor": 4
}
