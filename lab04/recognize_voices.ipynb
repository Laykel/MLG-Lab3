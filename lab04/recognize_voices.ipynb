{
 "cells": [
  {
   "cell_type": "code",
   "execution_count": 1,
   "metadata": {},
   "outputs": [],
   "source": [
    "import os\n",
    "import numpy as np\n",
    "from matplotlib import pyplot as pl\n",
    "from matplotlib import cm\n",
    "\n",
    "import scipy.io.wavfile as wav\n",
    "from python_speech_features import mfcc\n",
    "\n",
    "import mlp_backprop_momentum as mlp\n",
    "import k_fold_cross_validation as cv\n",
    "\n",
    "%matplotlib inline"
   ]
  },
  {
   "cell_type": "code",
   "execution_count": 2,
   "metadata": {},
   "outputs": [],
   "source": [
    "PATH = './vowels/'\n",
    "\n",
    "SAMPLE_RATE = 24000"
   ]
  },
  {
   "cell_type": "markdown",
   "metadata": {},
   "source": [
    "## Load data, pre-process it and label it\n",
    "\n",
    "We load every wav file and process them using Mel-Frequency Cepstral Coefficients. We then aggregate the coefficients of each window using an average."
   ]
  },
  {
   "cell_type": "code",
   "execution_count": 3,
   "metadata": {},
   "outputs": [],
   "source": [
    "# Compute MFCC for each signal and aggregate windows using the average\n",
    "def compute_mfcc_average(data):\n",
    "    return np.average(mfcc(data, samplerate=SAMPLE_RATE, nfft=1024), axis=0)"
   ]
  },
  {
   "cell_type": "code",
   "execution_count": 4,
   "metadata": {},
   "outputs": [
    {
     "data": {
      "text/plain": [
       "360"
      ]
     },
     "execution_count": 4,
     "metadata": {},
     "output_type": "execute_result"
    }
   ],
   "source": [
    "files = [file for file in os.listdir(PATH) if file.endswith(\".wav\")]\n",
    "signals = []\n",
    "\n",
    "for file in files:\n",
    "    data = compute_mfcc_average(wav.read(os.path.join(PATH, file))[1])\n",
    "    signals.append([file[:-4], data])\n",
    "    \n",
    "len(signals)"
   ]
  },
  {
   "cell_type": "code",
   "execution_count": 5,
   "metadata": {},
   "outputs": [],
   "source": [
    "# Add labels to the list\n",
    "for signal in signals:\n",
    "    name = signal[0]\n",
    "\n",
    "    # Natural voice (1) or synthetic (-1)\n",
    "    signal.append(1 if name[0] == 'n' else -1)\n",
    "\n",
    "    # Kid voice (0), adult female (1) or adult male (-1)\n",
    "    if name[1] == 'k':\n",
    "        signal.append(0)\n",
    "    else:\n",
    "        signal.append(1 if name[2] == 'f' else -1)"
   ]
  },
  {
   "cell_type": "markdown",
   "metadata": {},
   "source": [
    "---\n",
    "\n",
    "---\n",
    "\n",
    "## Using given code to explore model parameters\n",
    "\n",
    "We use the code given in notebook `9_model_selection` and make functions to use the code for each step of the practical work.\n",
    "\n",
    "### Exploring the number of epochs"
   ]
  },
  {
   "cell_type": "code",
   "execution_count": 6,
   "metadata": {},
   "outputs": [],
   "source": [
    "def explore_nb_epochs(nnp, n_neurons=[2, 4, 8, 16, 32]):\n",
    "    \"\"\"Visualize epochs with different numbers of hidden neurons\"\"\"\n",
    "    MSE = np.zeros((len(n_neurons), nnp.n_inits, nnp.epochs))\n",
    "\n",
    "    for i_h, h in enumerate(n_neurons):                # looping over the number of hidden neurons\n",
    "        print('Testing', h, 'neurons...')\n",
    "        nn = mlp.MLP([nnp.n_in, h, nnp.n_out], 'tanh')\n",
    "        for i in np.arange(nnp.n_inits):               # looping over the initializations\n",
    "            nn.init_weights()\n",
    "\n",
    "            MSE[i_h, i, :] = nn.fit((nnp.dataset[:,0:nnp.n_in], nnp.dataset[:,nnp.n_in:nnp.n_in+nnp.n_out]),\n",
    "                                    learning_rate=nnp.learning_rate,\n",
    "                                    momentum=nnp.momentum,\n",
    "                                    epochs=nnp.epochs)\n",
    "\n",
    "    # Visualize\n",
    "    pl.figure(figsize=(15,4))\n",
    "    p_count = 0\n",
    "    for n in np.arange(MSE.shape[0]):\n",
    "        pl.subplot(1, MSE.shape[0], n+1)\n",
    "        for i in np.arange(MSE.shape[1]):\n",
    "            pl.plot(MSE[n,i,:], c='b')\n",
    "        pl.ylim(0,1)\n",
    "        pl.xlabel('Epochs')\n",
    "        pl.ylabel('MSE')\n",
    "        pl.title(str(n_neurons[n]) + ' neurons')\n",
    "        pl.grid()\n",
    "    pl.tight_layout()"
   ]
  },
  {
   "cell_type": "markdown",
   "metadata": {},
   "source": [
    "### Exploring the number of hidden neurons"
   ]
  },
  {
   "cell_type": "code",
   "execution_count": 7,
   "metadata": {},
   "outputs": [],
   "source": [
    "def explore_nb_hidden_neurons(nnp, n_neurons=[2, 4, 6, 8, 10, 15, 20, 25, 30]):\n",
    "    \"\"\"Test performance with different numbers of hidden neurons and visualize\"\"\"\n",
    "    MSE_train = np.zeros((len(n_neurons), nnp.epochs, nnp.n_inits))\n",
    "    MSE_test = np.zeros((len(n_neurons), nnp.epochs, nnp.n_inits))\n",
    "\n",
    "    for i_h, h in enumerate(n_neurons):                                     # looping the number of hidden neurons\n",
    "        print('Testing', h, 'neurons...')\n",
    "        nn = mlp.MLP([nnp.n_in, h, nnp.n_out], 'tanh')\n",
    "        for i in np.arange(nnp.n_inits):                                        # looping the tests\n",
    "            nn.init_weights()                                                   # the network has to be reinitialized before each test\n",
    "            temp1, temp2 = cv.k_fold_cross_validation_per_epoch(nn,             # notice that we do not use cv.k_fold_cross_validation\n",
    "                                                                nnp.dataset,    # but cv.k_fold_cross_validation_per_epoch which\n",
    "                                                                k=nnp.K,        # returns a value of error per each epoch\n",
    "                                                                learning_rate=nnp.learning_rate,\n",
    "                                                                momentum=nnp.momentum,\n",
    "                                                                epochs=nnp.epochs)\n",
    "            # temp1 and temp2 are the training and test error. One value per epoch\n",
    "            MSE_train[i_h, :, i] = temp1\n",
    "            MSE_test[i_h, :, i] = temp2\n",
    "\n",
    "    # Visualize MSE using two axis\n",
    "    MSE_train_mean = np.mean(MSE_train, axis=2)\n",
    "    MSE_test_mean = np.mean(MSE_test, axis=2)\n",
    "    MSE_train_sd = np.std(MSE_train, axis=2)\n",
    "    MSE_test_sd = np.std(MSE_test, axis=2)\n",
    "\n",
    "    v_min = min(np.min(MSE_train_mean), np.min(MSE_test_mean))\n",
    "    v_max = max(np.max(MSE_train_mean), np.max(MSE_test_mean))\n",
    "\n",
    "    n_rows = int(np.ceil(len(n_neurons)/3.0))\n",
    "    pl.figure(figsize=(12,3*n_rows))\n",
    "    for i_n, n in enumerate(n_neurons):\n",
    "        pl.subplot(n_rows, min(3, len(n_neurons)), i_n+1)\n",
    "        pl.fill_between(np.arange(nnp.epochs), MSE_train_mean[i_n,:], MSE_train_mean[i_n,:]+MSE_train_sd[i_n,:], facecolor='blue', alpha=0.5, label='Train')\n",
    "        pl.fill_between(np.arange(nnp.epochs), MSE_train_mean[i_n,:], MSE_train_mean[i_n,:]-MSE_train_sd[i_n,:], facecolor='blue', alpha=0.5)\n",
    "        pl.fill_between(np.arange(nnp.epochs), MSE_test_mean[i_n,:], MSE_test_mean[i_n,:]+MSE_test_sd[i_n,:], facecolor='red', alpha=0.5, label='Test')\n",
    "        pl.fill_between(np.arange(nnp.epochs), MSE_test_mean[i_n,:], MSE_test_mean[i_n,:]-MSE_test_sd[i_n,:], facecolor='red', alpha=0.5)\n",
    "        pl.ylim(0.95*v_min,0.5*v_max)\n",
    "        pl.ylabel('MSE')\n",
    "        pl.xlabel('Number of epochs')\n",
    "        pl.title(str(nnp.K)+'-fold CV with '+str(n)+' hidden neurons')\n",
    "        pl.legend()\n",
    "        pl.grid()\n",
    "    pl.tight_layout()\n",
    "\n",
    "    # Visualize using confusion matrix like plot\n",
    "    pl.figure(figsize=(15,8))\n",
    "    pl.subplot(2,1,1)\n",
    "    pl.imshow(MSE_train_mean, vmin=np.min(MSE_train_mean), vmax=np.percentile(MSE_train_mean, 90), aspect=3, interpolation='nearest')\n",
    "    pl.yticks(np.arange(len(n_neurons)), n_neurons)\n",
    "    pl.xlabel('Epochs')\n",
    "    pl.ylabel('Number of hidden Neurons')\n",
    "    pl.title('Training')\n",
    "    pl.colorbar()\n",
    "    pl.subplot(2,1,2)\n",
    "    pl.imshow(MSE_test_mean, vmin=np.min(MSE_test_mean), vmax=np.percentile(MSE_test_mean, 90), aspect=3, interpolation='nearest')\n",
    "    pl.yticks(np.arange(len(n_neurons)), n_neurons)\n",
    "    pl.xlabel('Epochs')\n",
    "    pl.ylabel('Number of hidden Neurons')\n",
    "    pl.title('Test')\n",
    "    pl.colorbar()\n",
    "    pl.tight_layout()"
   ]
  },
  {
   "cell_type": "markdown",
   "metadata": {},
   "source": [
    "### Creating final model and returning the confusion matrix"
   ]
  },
  {
   "cell_type": "code",
   "execution_count": 8,
   "metadata": {},
   "outputs": [],
   "source": [
    "def final_model_performance(nnp):\n",
    "    \"\"\"Build model with final parameters and return performance and confusion matrix\"\"\"\n",
    "    nn = mlp.MLP([nnp.n_in, nnp.n_hidden, nnp.n_out], 'tanh')\n",
    "\n",
    "    MSE_train, MSE_test, conf_mat = cv.k_fold_cross_validation(nn,\n",
    "                                                               nnp.dataset,\n",
    "                                                               k=nnp.K,\n",
    "                                                               learning_rate=nnp.learning_rate,\n",
    "                                                               momentum=nnp.momentum,\n",
    "                                                               epochs=nnp.epochs,\n",
    "                                                               threshold=nnp.threshold)\n",
    "\n",
    "    return nn, MSE_train, MSE_test, conf_mat"
   ]
  },
  {
   "cell_type": "code",
   "execution_count": 9,
   "metadata": {},
   "outputs": [],
   "source": [
    "def plot_confusion_matrix(confmat, labels_names, ax=None):\n",
    "    \"\"\"Print a nice confusion matrix\"\"\"\n",
    "    confmat = confmat.astype(int)\n",
    "    \n",
    "    if ax is None:\n",
    "        ax = pl.subplot(111)\n",
    "    cmim = ax.matshow(confmat, interpolation='nearest', cmap=cm.jet)\n",
    "\n",
    "    for i in range(confmat.shape[0]):\n",
    "        for j in range(confmat.shape[1]):\n",
    "            ax.annotate(str(confmat[i, j]), xy=(j, i),\n",
    "                        horizontalalignment='center',\n",
    "                        verticalalignment='center',\n",
    "                        fontsize=12,\n",
    "                        color=\"white\",\n",
    "                        weight=\"bold\")\n",
    "\n",
    "    ax.set_xticks(np.arange(confmat.shape[0]))\n",
    "    ax.set_xticklabels([labels_names[l] for l in range(confmat.shape[0])], rotation='horizontal')\n",
    "    ax.set_yticks(np.arange(confmat.shape[1]))\n",
    "    ax.set_yticklabels([labels_names[l] for l in range(confmat.shape[1])])\n",
    "    \n",
    "    ax.set_xlabel('Predicted label')\n",
    "    ax.xaxis.set_label_position('top')\n",
    "    ax.set_ylabel('Target label')\n",
    "    \n",
    "    pl.colorbar(cmim, orientation='vertical', pad=0.05)\n",
    "    pl.plot()"
   ]
  },
  {
   "cell_type": "code",
   "execution_count": 10,
   "metadata": {},
   "outputs": [],
   "source": [
    "def compute_f_measure(tp, fp, fn):\n",
    "    \"\"\"Return precision, recall and f-measure\"\"\"\n",
    "    precision = tp / (tp + fp)\n",
    "    recall = tp / (tp + fn)\n",
    "    f_measure = 2 * precision * recall / (precision + recall)\n",
    "    \n",
    "    return precision, recall, f_measure"
   ]
  },
  {
   "cell_type": "code",
   "execution_count": 11,
   "metadata": {},
   "outputs": [],
   "source": [
    "# Set initial guesses for parameters\n",
    "N_INITS = 10\n",
    "EPOCHS = 500\n",
    "K = 5\n",
    "LEARNING_RATE = 0.001\n",
    "MOMENTUM = 0.5\n",
    "THRESHOLD = 0.0\n",
    "\n",
    "class NNParameters:\n",
    "    \"\"\"Simple container for neural network model parameters\"\"\"\n",
    "    def __init__(self, n_in, n_out, dataset, K=K, learning_rate=LEARNING_RATE,\n",
    "                 momentum=MOMENTUM, threshold=THRESHOLD, n_inits=N_INITS, n_hidden=2, epochs=EPOCHS):\n",
    "        # Known before exploration\n",
    "        self.n_in = n_in\n",
    "        self.n_out = n_out\n",
    "        self.dataset = dataset\n",
    "        self.K = K\n",
    "        self.learning_rate = learning_rate\n",
    "        self.momentum = momentum\n",
    "        self.threshold = threshold\n",
    "        self.n_inits = n_inits\n",
    "        \n",
    "        # Explore different settings\n",
    "        self.n_hidden = n_hidden\n",
    "        self.epochs = epochs"
   ]
  },
  {
   "cell_type": "code",
   "execution_count": 12,
   "metadata": {},
   "outputs": [],
   "source": [
    "# TODELETE\n",
    "def normalize(arr):\n",
    "    \"\"\"Normalize data between -1 and 1\"\"\"\n",
    "    return 2 * ((arr - np.min(arr)) / (np.max(arr) - np.min(arr))) - 1"
   ]
  },
  {
   "cell_type": "markdown",
   "metadata": {},
   "source": [
    "---\n",
    "\n",
    "---\n",
    "\n",
    "## First experiment\n",
    "\n",
    "Man vs Woman. Use only the natural voices of men and women to train a neural network that recognizes the gender of the speaker."
   ]
  },
  {
   "cell_type": "code",
   "execution_count": 13,
   "metadata": {},
   "outputs": [
    {
     "name": "stdout",
     "output_type": "stream",
     "text": [
      "72\n"
     ]
    }
   ],
   "source": [
    "# Keep only adult natural voices\n",
    "natural_mf = [s for s in signals if s[2] == 1 and s[3] != 0]\n",
    "print(len(natural_mf))"
   ]
  },
  {
   "cell_type": "code",
   "execution_count": 14,
   "metadata": {},
   "outputs": [],
   "source": [
    "# Extract a list of samples and a list of labels\n",
    "ceps_nmf = [s[1] for s in natural_mf]\n",
    "labels_nmf = [s[3] for s in natural_mf]\n",
    "\n",
    "# Write dataset\n",
    "dataset_nmf = np.array([np.append(s, l) for s, l in zip(ceps_nmf, labels_nmf)])"
   ]
  },
  {
   "cell_type": "code",
   "execution_count": 15,
   "metadata": {},
   "outputs": [
    {
     "name": "stdout",
     "output_type": "stream",
     "text": [
      "Testing 2 neurons...\n",
      "Testing 4 neurons...\n",
      "Testing 8 neurons...\n",
      "Testing 10 neurons...\n",
      "Testing 12 neurons...\n",
      "Testing 15 neurons...\n"
     ]
    },
    {
     "data": {
      "image/png": "[encoded data removed]",
      "text/plain": [
       "<Figure size 1080x288 with 6 Axes>"
      ]
     },
     "metadata": {
      "needs_background": "light"
     },
     "output_type": "display_data"
    }
   ],
   "source": [
    "# Build initial parameters set\n",
    "nn1 = NNParameters(n_in=13,\n",
    "                   n_out=1,\n",
    "                   dataset=dataset_nmf)\n",
    "\n",
    "explore_nb_epochs(nn1)"
   ]
  },
  {
   "cell_type": "code",
   "execution_count": 16,
   "metadata": {},
   "outputs": [
    {
     "name": "stdout",
     "output_type": "stream",
     "text": [
      "Testing 2 neurons...\n",
      "Testing 4 neurons...\n",
      "Testing 8 neurons...\n",
      "Testing 10 neurons...\n",
      "Testing 12 neurons...\n"
     ]
    },
    {
     "ename": "KeyboardInterrupt",
     "evalue": "",
     "output_type": "error",
     "traceback": [
      "\u001b[0;31m---------------------------------------------------------------------------\u001b[0m",
      "\u001b[0;31mKeyboardInterrupt\u001b[0m                         Traceback (most recent call last)",
      "\u001b[0;32m<ipython-input-16-46f93f8a1390>\u001b[0m in \u001b[0;36m<module>\u001b[0;34m\u001b[0m\n\u001b[1;32m      1\u001b[0m \u001b[0mnn1\u001b[0m\u001b[0;34m.\u001b[0m\u001b[0mepochs\u001b[0m \u001b[0;34m=\u001b[0m \u001b[0;36m150\u001b[0m\u001b[0;34m\u001b[0m\u001b[0;34m\u001b[0m\u001b[0m\n\u001b[1;32m      2\u001b[0m \u001b[0;34m\u001b[0m\u001b[0m\n\u001b[0;32m----> 3\u001b[0;31m \u001b[0mexplore_nb_hidden_neurons\u001b[0m\u001b[0;34m(\u001b[0m\u001b[0mnn1\u001b[0m\u001b[0;34m,\u001b[0m \u001b[0;34m[\u001b[0m\u001b[0;36m2\u001b[0m\u001b[0;34m,\u001b[0m \u001b[0;36m4\u001b[0m\u001b[0;34m,\u001b[0m \u001b[0;36m8\u001b[0m\u001b[0;34m,\u001b[0m \u001b[0;36m10\u001b[0m\u001b[0;34m,\u001b[0m \u001b[0;36m12\u001b[0m\u001b[0;34m,\u001b[0m \u001b[0;36m15\u001b[0m\u001b[0;34m]\u001b[0m\u001b[0;34m)\u001b[0m\u001b[0;34m\u001b[0m\u001b[0;34m\u001b[0m\u001b[0m\n\u001b[0m",
      "\u001b[0;32m<ipython-input-7-d3dbd21f0a67>\u001b[0m in \u001b[0;36mexplore_nb_hidden_neurons\u001b[0;34m(nnp, n_neurons)\u001b[0m\n\u001b[1;32m     14\u001b[0m                                                                 \u001b[0mlearning_rate\u001b[0m\u001b[0;34m=\u001b[0m\u001b[0mnnp\u001b[0m\u001b[0;34m.\u001b[0m\u001b[0mlearning_rate\u001b[0m\u001b[0;34m,\u001b[0m\u001b[0;34m\u001b[0m\u001b[0;34m\u001b[0m\u001b[0m\n\u001b[1;32m     15\u001b[0m                                                                 \u001b[0mmomentum\u001b[0m\u001b[0;34m=\u001b[0m\u001b[0mnnp\u001b[0m\u001b[0;34m.\u001b[0m\u001b[0mmomentum\u001b[0m\u001b[0;34m,\u001b[0m\u001b[0;34m\u001b[0m\u001b[0;34m\u001b[0m\u001b[0m\n\u001b[0;32m---> 16\u001b[0;31m                                                                 epochs=nnp.epochs)\n\u001b[0m\u001b[1;32m     17\u001b[0m             \u001b[0;31m# temp1 and temp2 are the training and test error. One value per epoch\u001b[0m\u001b[0;34m\u001b[0m\u001b[0;34m\u001b[0m\u001b[0;34m\u001b[0m\u001b[0m\n\u001b[1;32m     18\u001b[0m             \u001b[0mMSE_train\u001b[0m\u001b[0;34m[\u001b[0m\u001b[0mi_h\u001b[0m\u001b[0;34m,\u001b[0m \u001b[0;34m:\u001b[0m\u001b[0;34m,\u001b[0m \u001b[0mi\u001b[0m\u001b[0;34m]\u001b[0m \u001b[0;34m=\u001b[0m \u001b[0mtemp1\u001b[0m\u001b[0;34m\u001b[0m\u001b[0;34m\u001b[0m\u001b[0m\n",
      "\u001b[0;32m~/HEIG/Semestre6/MLG/Labos/PW3/lab04/k_fold_cross_validation.py\u001b[0m in \u001b[0;36mk_fold_cross_validation_per_epoch\u001b[0;34m(mlp, dataset, k, learning_rate, momentum, epochs)\u001b[0m\n\u001b[1;32m    102\u001b[0m \u001b[0;34m\u001b[0m\u001b[0m\n\u001b[1;32m    103\u001b[0m         MSE_train[k_i,:], MSE_test[k_i,:] = mlp.fit((input_data, output_data), (input_data_test, output_data_test),\n\u001b[0;32m--> 104\u001b[0;31m                                                     learning_rate=learning_rate, momentum=momentum, epochs=epochs)\n\u001b[0m\u001b[1;32m    105\u001b[0m \u001b[0;34m\u001b[0m\u001b[0m\n\u001b[1;32m    106\u001b[0m     \u001b[0;32mreturn\u001b[0m \u001b[0;34m(\u001b[0m\u001b[0mnp\u001b[0m\u001b[0;34m.\u001b[0m\u001b[0mmean\u001b[0m\u001b[0;34m(\u001b[0m\u001b[0mMSE_train\u001b[0m\u001b[0;34m,\u001b[0m \u001b[0maxis\u001b[0m\u001b[0;34m=\u001b[0m\u001b[0;36m0\u001b[0m\u001b[0;34m)\u001b[0m\u001b[0;34m,\u001b[0m \u001b[0mnp\u001b[0m\u001b[0;34m.\u001b[0m\u001b[0mmean\u001b[0m\u001b[0;34m(\u001b[0m\u001b[0mMSE_test\u001b[0m\u001b[0;34m,\u001b[0m \u001b[0maxis\u001b[0m\u001b[0;34m=\u001b[0m\u001b[0;36m0\u001b[0m\u001b[0;34m)\u001b[0m\u001b[0;34m)\u001b[0m\u001b[0;34m\u001b[0m\u001b[0;34m\u001b[0m\u001b[0m\n",
      "\u001b[0;32m~/HEIG/Semestre6/MLG/Labos/PW3/lab04/mlp_backprop_momentum.py\u001b[0m in \u001b[0;36mfit\u001b[0;34m(self, data_train, data_test, learning_rate, momentum, epochs)\u001b[0m\n\u001b[1;32m     90\u001b[0m \u001b[0;34m\u001b[0m\u001b[0m\n\u001b[1;32m     91\u001b[0m                 \u001b[0merror\u001b[0m \u001b[0;34m=\u001b[0m \u001b[0ma\u001b[0m\u001b[0;34m[\u001b[0m\u001b[0;34m-\u001b[0m\u001b[0;36m1\u001b[0m\u001b[0;34m]\u001b[0m \u001b[0;34m-\u001b[0m \u001b[0my\u001b[0m\u001b[0;34m[\u001b[0m\u001b[0mi\u001b[0m\u001b[0;34m]\u001b[0m                            \u001b[0;31m# Compute the error: output - target\u001b[0m\u001b[0;34m\u001b[0m\u001b[0;34m\u001b[0m\u001b[0m\n\u001b[0;32m---> 92\u001b[0;31m                 \u001b[0merror_it\u001b[0m\u001b[0;34m[\u001b[0m\u001b[0mit\u001b[0m\u001b[0;34m]\u001b[0m \u001b[0;34m=\u001b[0m \u001b[0mnp\u001b[0m\u001b[0;34m.\u001b[0m\u001b[0mmean\u001b[0m\u001b[0;34m(\u001b[0m\u001b[0merror\u001b[0m \u001b[0;34m**\u001b[0m \u001b[0;36m2\u001b[0m\u001b[0;34m)\u001b[0m              \u001b[0;31m# Store the error of this iteration (average of all the outputs)\u001b[0m\u001b[0;34m\u001b[0m\u001b[0;34m\u001b[0m\u001b[0m\n\u001b[0m\u001b[1;32m     93\u001b[0m                 \u001b[0mdeltas\u001b[0m \u001b[0;34m=\u001b[0m \u001b[0;34m[\u001b[0m\u001b[0merror\u001b[0m \u001b[0;34m*\u001b[0m \u001b[0mself\u001b[0m\u001b[0;34m.\u001b[0m\u001b[0mactivation_deriv\u001b[0m\u001b[0;34m(\u001b[0m\u001b[0ma\u001b[0m\u001b[0;34m[\u001b[0m\u001b[0;34m-\u001b[0m\u001b[0;36m1\u001b[0m\u001b[0;34m]\u001b[0m\u001b[0;34m)\u001b[0m\u001b[0;34m]\u001b[0m \u001b[0;31m# Ponderate the error by the derivative = delta\u001b[0m\u001b[0;34m\u001b[0m\u001b[0;34m\u001b[0m\u001b[0m\n\u001b[1;32m     94\u001b[0m \u001b[0;34m\u001b[0m\u001b[0m\n",
      "\u001b[0;32m~/.miniconda3/envs/mlg-3/lib/python3.7/site-packages/numpy/core/fromnumeric.py\u001b[0m in \u001b[0;36mmean\u001b[0;34m(a, axis, dtype, out, keepdims)\u001b[0m\n\u001b[1;32m   3116\u001b[0m \u001b[0;34m\u001b[0m\u001b[0m\n\u001b[1;32m   3117\u001b[0m     return _methods._mean(a, axis=axis, dtype=dtype,\n\u001b[0;32m-> 3118\u001b[0;31m                           out=out, **kwargs)\n\u001b[0m\u001b[1;32m   3119\u001b[0m \u001b[0;34m\u001b[0m\u001b[0m\n\u001b[1;32m   3120\u001b[0m \u001b[0;34m\u001b[0m\u001b[0m\n",
      "\u001b[0;31mKeyboardInterrupt\u001b[0m: "
     ]
    }
   ],
   "source": [
    "nn1.epochs = 200\n",
    "\n",
    "explore_nb_hidden_neurons(nn1, [2, 4, 6, 8, 10, 15])"
   ]
  },
  {
   "cell_type": "code",
   "execution_count": null,
   "metadata": {},
   "outputs": [],
   "source": [
    "nn1.n_hidden = 8\n",
    "\n",
    "nn1f, MSE_train, MSE_test, conf_matrix = final_model_performance(nn1)"
   ]
  },
  {
   "cell_type": "code",
   "execution_count": null,
   "metadata": {},
   "outputs": [],
   "source": [
    "print('MSE training: ', MSE_train)\n",
    "print('MSE test: ', MSE_test)\n",
    "\n",
    "tp = conf_matrix[0, 0]\n",
    "fp = conf_matrix[1, 0]\n",
    "fn = conf_matrix[0, 1]\n",
    "precision, recall, f_measure = compute_f_measure(tp, fp, fn)\n",
    "print(\"F-measure for females:\", f_measure)\n",
    "\n",
    "print('Confusion matrix:')\n",
    "plot_confusion_matrix(conf_matrix, [\"Female\", \"Male\"])"
   ]
  },
  {
   "cell_type": "markdown",
   "metadata": {},
   "source": [
    "## Second experiment\n",
    "\n",
    "Man vs Woman, using both natural and synthetic voices."
   ]
  },
  {
   "cell_type": "code",
   "execution_count": null,
   "metadata": {},
   "outputs": [],
   "source": [
    "# Keep only adult voices\n",
    "all_mf = [s for s in signals if s[3] != 0]\n",
    "print(len(all_mf))"
   ]
  },
  {
   "cell_type": "code",
   "execution_count": null,
   "metadata": {},
   "outputs": [],
   "source": [
    "# Extract a list of samples and a list of labels\n",
    "ceps_amf = [s[1] for s in all_mf]\n",
    "labels_amf = [s[3] for s in all_mf]\n",
    "\n",
    "# Write dataset\n",
    "dataset_amf = np.array([np.append(s, l) for s, l in zip(ceps_amf, labels_amf)])"
   ]
  },
  {
   "cell_type": "code",
   "execution_count": null,
   "metadata": {},
   "outputs": [],
   "source": [
    "# Build initial parameters set\n",
    "nn2 = NNParameters(n_in=13,\n",
    "                   n_out=1,\n",
    "                   dataset=dataset_amf)\n",
    "\n",
    "explore_nb_epochs(nn2)"
   ]
  },
  {
   "cell_type": "code",
   "execution_count": null,
   "metadata": {},
   "outputs": [],
   "source": [
    "nn2.epochs = 200\n",
    "\n",
    "explore_nb_hidden_neurons(nn2, [2, 4, 6, 8, 10, 15])"
   ]
  },
  {
   "cell_type": "code",
   "execution_count": null,
   "metadata": {},
   "outputs": [],
   "source": [
    "nn2.n_hidden = 8\n",
    "\n",
    "nn2f, MSE_train, MSE_test, conf_matrix = final_model_performance(nn2)"
   ]
  },
  {
   "cell_type": "code",
   "execution_count": null,
   "metadata": {},
   "outputs": [],
   "source": [
    "print('MSE training: ', MSE_train)\n",
    "print('MSE test: ', MSE_test)\n",
    "\n",
    "tp = conf_matrix[0, 0]\n",
    "fp = conf_matrix[1, 0]\n",
    "fn = conf_matrix[0, 1]\n",
    "precision, recall, f_measure = compute_f_measure(tp, fp, fn)\n",
    "print(\"F-measure for females:\", f_measure)\n",
    "\n",
    "print('Confusion matrix:')\n",
    "plot_confusion_matrix(conf_matrix, [\"Female\", \"Male\"])"
   ]
  },
  {
   "cell_type": "markdown",
   "metadata": {},
   "source": [
    "## Third experiment\n",
    "\n",
    "Man vs. Woman vs. children."
   ]
  },
  {
   "cell_type": "code",
   "execution_count": null,
   "metadata": {},
   "outputs": [],
   "source": [
    "# Code output using three columns\n",
    "# woman = (1, -1, -1), man = (-1, 1, -1), child = (-1, -1, 1)\n",
    "\n",
    "# Extract a list of samples and a list of labels\n",
    "ceps = []\n",
    "labels = []\n",
    "\n",
    "for signal in signals:\n",
    "    ceps.append(signal[1])\n",
    "    \n",
    "    if signal[3] == 1:\n",
    "        labels.append([1, -1, -1])\n",
    "    elif signal[3] == -1:\n",
    "        labels.append([-1, 1, -1])\n",
    "    elif signal[3] == 0:\n",
    "        labels.append([-1, -1, 1])\n",
    "\n",
    "# Write dataset\n",
    "dataset_all = np.array([np.append(s, l) for s, l in zip(ceps, labels)])"
   ]
  },
  {
   "cell_type": "code",
   "execution_count": null,
   "metadata": {},
   "outputs": [],
   "source": [
    "# Build initial parameters set\n",
    "nn3 = NNParameters(n_in=13,\n",
    "                   n_out=3,\n",
    "                   dataset=dataset_all)\n",
    "\n",
    "explore_nb_epochs(nn3)"
   ]
  },
  {
   "cell_type": "code",
   "execution_count": null,
   "metadata": {},
   "outputs": [],
   "source": [
    "nn3.epochs = 300\n",
    "\n",
    "explore_nb_hidden_neurons(nn3)"
   ]
  },
  {
   "cell_type": "code",
   "execution_count": null,
   "metadata": {},
   "outputs": [],
   "source": [
    "nn3.n_hidden = 8\n",
    "\n",
    "nn3f, MSE_train, MSE_test, conf_matrix = final_model_performance(nn3)"
   ]
  },
  {
   "cell_type": "code",
   "execution_count": null,
   "metadata": {},
   "outputs": [],
   "source": [
    "print('MSE training: ', MSE_train)\n",
    "print('MSE test: ', MSE_test)\n",
    "\n",
    "tp = conf_matrix[0, 0]\n",
    "fp = conf_matrix[1, 0]\n",
    "fn = conf_matrix[0, 1]\n",
    "precision, recall, f_measure = compute_f_measure(tp, fp, fn)\n",
    "print(\"F-measure for females:\", f_measure)\n",
    "\n",
    "print('Confusion matrix:')\n",
    "plot_confusion_matrix(conf_matrix, [\"Female\", \"Male\"])"
   ]
  },
  {
   "cell_type": "markdown",
   "metadata": {},
   "source": [
    "## Fourth experiment\n",
    "\n",
    "Design a final experiment of your choice (e.g., using your own voice). \n",
    "\n",
    "Test normalizing the input between -1 and 1 ?\n",
    "\n"
   ]
  }
 ],
 "metadata": {
  "kernelspec": {
   "display_name": "Python 3.7 (mlg-3)",
   "language": "python",
   "name": "tb"
  },
  "language_info": {
   "codemirror_mode": {
    "name": "ipython",
    "version": 3
   },
   "file_extension": ".py",
   "mimetype": "text/x-python",
   "name": "python",
   "nbconvert_exporter": "python",
   "pygments_lexer": "ipython3",
   "version": "3.7.7"
  }
 },
 "nbformat": 4,
 "nbformat_minor": 4
}
