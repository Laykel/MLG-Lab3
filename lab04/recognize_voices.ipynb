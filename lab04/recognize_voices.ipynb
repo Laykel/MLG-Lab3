{
 "cells": [
  {
   "cell_type": "code",
   "execution_count": 1,
   "metadata": {},
   "outputs": [],
   "source": [
    "import os\n",
    "import numpy as np\n",
    "from matplotlib import pyplot as pl\n",
    "\n",
    "import scipy.io.wavfile as wav\n",
    "from python_speech_features import mfcc\n",
    "\n",
    "import mlp_backprop_momentum as mlp\n",
    "import k_fold_cross_validation as cv\n",
    "\n",
    "%matplotlib inline"
   ]
  },
  {
   "cell_type": "code",
   "execution_count": 2,
   "metadata": {},
   "outputs": [],
   "source": [
    "PATH = './vowels/'\n",
    "\n",
    "SAMPLE_RATE = 24000"
   ]
  },
  {
   "cell_type": "markdown",
   "metadata": {},
   "source": [
    "## Load data, pre-process it and label it\n",
    "\n",
    "We load every wav file and process them using Mel-Frequency Cepstral Coefficients. We then aggregate the coefficients of each window using an average."
   ]
  },
  {
   "cell_type": "code",
   "execution_count": 3,
   "metadata": {},
   "outputs": [],
   "source": [
    "# Compute MFCC for each signal and aggregate windows using the average\n",
    "def compute_mfcc_average(data):\n",
    "    return np.average(mfcc(data, samplerate=SAMPLE_RATE, nfft=1024), axis=0)"
   ]
  },
  {
   "cell_type": "code",
   "execution_count": 4,
   "metadata": {},
   "outputs": [
    {
     "data": {
      "text/plain": [
       "360"
      ]
     },
     "execution_count": 4,
     "metadata": {},
     "output_type": "execute_result"
    }
   ],
   "source": [
    "files = [file for file in os.listdir(PATH) if file.endswith(\".wav\")]\n",
    "signals = []\n",
    "\n",
    "for file in files:\n",
    "    data = compute_mfcc_average(wav.read(os.path.join(PATH, file))[1])\n",
    "    signals.append([file[:-4], data])\n",
    "    \n",
    "len(signals)"
   ]
  },
  {
   "cell_type": "code",
   "execution_count": 5,
   "metadata": {},
   "outputs": [],
   "source": [
    "# Add labels to the list\n",
    "for signal in signals:\n",
    "    name = signal[0]\n",
    "\n",
    "    # Natural voice (1) or synthetic (-1)\n",
    "    signal.append(1 if name[0] == 'n' else -1)\n",
    "\n",
    "    # Kid voice (0), adult female (1) or adult male (-1)\n",
    "    if name[1] == 'k':\n",
    "        signal.append(0)\n",
    "    else:\n",
    "        signal.append(1 if name[2] == 'f' else -1)"
   ]
  },
  {
   "cell_type": "markdown",
   "metadata": {},
   "source": [
    "---\n",
    "\n",
    "---\n",
    "\n",
    "## Using given code to explore model parameters\n",
    "\n",
    "We use the code given in notebook `9_model_selection` and make functions to use the code for each step of the practical work.\n",
    "\n",
    "### Exploring the number of epochs"
   ]
  },
  {
   "cell_type": "code",
   "execution_count": 6,
   "metadata": {},
   "outputs": [],
   "source": [
    "def explore_nb_epochs(nnp, n_neurons=[2, 4, 8, 10, 12, 15, 20]):\n",
    "    \"\"\"Visualize epochs with different numbers of hidden neurons\"\"\"\n",
    "    MSE = np.zeros((len(n_neurons), nnp.n_inits, nnp.epochs))\n",
    "\n",
    "    for i_h, h in enumerate(n_neurons):                # looping over the number of hidden neurons\n",
    "        print('Testing', h, 'neurons...')\n",
    "        nn = mlp.MLP([nnp.n_in, h, nnp.n_out], 'tanh')\n",
    "        for i in np.arange(nnp.n_inits):               # looping over the initializations\n",
    "            nn.init_weights()\n",
    "\n",
    "            MSE[i_h, i, :] = nn.fit((nnp.dataset[:,0:nnp.n_in], nnp.dataset[:,nnp.n_in:nnp.n_in+nnp.n_out]),\n",
    "                                    learning_rate=nnp.learning_rate,\n",
    "                                    momentum=nnp.momentum,\n",
    "                                    epochs=nnp.epochs)\n",
    "\n",
    "    # Visualize\n",
    "    pl.figure(figsize=(15,4))\n",
    "    p_count = 0\n",
    "    for n in np.arange(MSE.shape[0]):\n",
    "        pl.subplot(1, MSE.shape[0], n+1)\n",
    "        for i in np.arange(MSE.shape[1]):\n",
    "            pl.plot(MSE[n,i,:], c='b')\n",
    "        pl.ylim(0,1)\n",
    "        pl.xlabel('Epochs')\n",
    "        pl.ylabel('MSE')\n",
    "        pl.title(str(n_neurons[n]) + ' neurons')\n",
    "        pl.grid()\n",
    "    pl.tight_layout()"
   ]
  },
  {
   "cell_type": "markdown",
   "metadata": {},
   "source": [
    "### Exploring the number of hidden neurons"
   ]
  },
  {
   "cell_type": "code",
   "execution_count": 7,
   "metadata": {},
   "outputs": [],
   "source": [
    "def explore_nb_hidden_neurons(nnp, n_neurons=[2, 4, 6, 8, 10, 15, 20, 25, 30]):\n",
    "    \"\"\"Test performance with different numbers of hidden neurons and visualize\"\"\"\n",
    "    MSE_train = np.zeros((len(n_neurons), nnp.epochs, nnp.n_inits))\n",
    "    MSE_test = np.zeros((len(n_neurons), nnp.epochs, nnp.n_inits))\n",
    "\n",
    "    for i_h, h in enumerate(n_neurons):                                     # looping the number of hidden neurons\n",
    "        print('Testing', h, 'neurons...')\n",
    "        nn = mlp.MLP([nnp.n_in, h, nnp.n_out], 'tanh')\n",
    "        for i in np.arange(nnp.n_inits):                                        # looping the tests\n",
    "            nn.init_weights()                                                   # the network has to be reinitialized before each test\n",
    "            temp1, temp2 = cv.k_fold_cross_validation_per_epoch(nn,             # notice that we do not use cv.k_fold_cross_validation\n",
    "                                                                nnp.dataset,    # but cv.k_fold_cross_validation_per_epoch which\n",
    "                                                                k=nnp.K,        # returns a value of error per each epoch\n",
    "                                                                learning_rate=nnp.learning_rate,\n",
    "                                                                momentum=nnp.momentum,\n",
    "                                                                epochs=nnp.epochs)\n",
    "            # temp1 and temp2 are the training and test error. One value per epoch\n",
    "            MSE_train[i_h, :, i] = temp1\n",
    "            MSE_test[i_h, :, i] = temp2\n",
    "\n",
    "    # Visualize MSE using two axis\n",
    "    MSE_train_mean = np.mean(MSE_train, axis=2)\n",
    "    MSE_test_mean = np.mean(MSE_test, axis=2)\n",
    "    MSE_train_sd = np.std(MSE_train, axis=2)\n",
    "    MSE_test_sd = np.std(MSE_test, axis=2)\n",
    "\n",
    "    v_min = min(np.min(MSE_train_mean), np.min(MSE_test_mean))\n",
    "    v_max = max(np.max(MSE_train_mean), np.max(MSE_test_mean))\n",
    "\n",
    "    n_rows = int(np.ceil(len(n_neurons)/3.0))\n",
    "    pl.figure(figsize=(12,3*n_rows))\n",
    "    for i_n, n in enumerate(n_neurons):\n",
    "        pl.subplot(n_rows, min(3, len(n_neurons)), i_n+1)\n",
    "        pl.fill_between(np.arange(nnp.epochs), MSE_train_mean[i_n,:], MSE_train_mean[i_n,:]+MSE_train_sd[i_n,:], facecolor='blue', alpha=0.5, label='Train')\n",
    "        pl.fill_between(np.arange(nnp.epochs), MSE_train_mean[i_n,:], MSE_train_mean[i_n,:]-MSE_train_sd[i_n,:], facecolor='blue', alpha=0.5)\n",
    "        pl.fill_between(np.arange(nnp.epochs), MSE_test_mean[i_n,:], MSE_test_mean[i_n,:]+MSE_test_sd[i_n,:], facecolor='red', alpha=0.5, label='Test')\n",
    "        pl.fill_between(np.arange(nnp.epochs), MSE_test_mean[i_n,:], MSE_test_mean[i_n,:]-MSE_test_sd[i_n,:], facecolor='red', alpha=0.5)\n",
    "        pl.ylim(0.95*v_min,0.5*v_max)\n",
    "        pl.ylabel('MSE')\n",
    "        pl.xlabel('Number of epochs')\n",
    "        pl.title(str(nnp.K)+'-fold CV with '+str(n)+' hidden neurons')\n",
    "        pl.legend()\n",
    "        pl.grid()\n",
    "    pl.tight_layout()\n",
    "\n",
    "    # Visualize using confusion matrix like plot\n",
    "    pl.figure(figsize=(15,8))\n",
    "    pl.subplot(2,1,1)\n",
    "    pl.imshow(MSE_train_mean, vmin=np.min(MSE_train_mean), vmax=np.percentile(MSE_train_mean, 90), aspect=3, interpolation='nearest')\n",
    "    pl.yticks(np.arange(len(n_neurons)), n_neurons)\n",
    "    pl.xlabel('Epochs')\n",
    "    pl.ylabel('Number of hidden Neurons')\n",
    "    pl.title('Training')\n",
    "    pl.colorbar()\n",
    "    pl.subplot(2,1,2)\n",
    "    pl.imshow(MSE_test_mean, vmin=np.min(MSE_test_mean), vmax=np.percentile(MSE_test_mean, 90), aspect=3, interpolation='nearest')\n",
    "    pl.yticks(np.arange(len(n_neurons)), n_neurons)\n",
    "    pl.xlabel('Epochs')\n",
    "    pl.ylabel('Number of hidden Neurons')\n",
    "    pl.title('Test')\n",
    "    pl.colorbar()\n",
    "    pl.tight_layout()"
   ]
  },
  {
   "cell_type": "markdown",
   "metadata": {},
   "source": [
    "### Creating final model and returning the confusion matrix"
   ]
  },
  {
   "cell_type": "code",
   "execution_count": 8,
   "metadata": {},
   "outputs": [],
   "source": [
    "def final_model_performance(nnp):\n",
    "    \"\"\"Build model with final parameters and return performance and confusion matrix\"\"\"\n",
    "    nn = mlp.MLP([nnp.n_in, nnp.n_hidden, nnp.n_out], 'tanh')\n",
    "\n",
    "    MSE_train, MSE_test, conf_mat = cv.k_fold_cross_validation(nn,\n",
    "                                                               nnp.dataset,\n",
    "                                                               k=nnp.K,\n",
    "                                                               learning_rate=nnp.learning_rate,\n",
    "                                                               momentum=nnp.momentum,\n",
    "                                                               epochs=nnp.epochs,\n",
    "                                                               threshold=nnp.threshold)\n",
    "\n",
    "    return nn, MSE_train, MSE_test, conf_mat"
   ]
  },
  {
   "cell_type": "code",
   "execution_count": null,
   "metadata": {},
   "outputs": [],
   "source": [
    "import matplotlib.cm as cm\n",
    "\n",
    "def plot_confusion_matrix(confmat, labels_names, ax=None):\n",
    "    \"\"\"Print a nice confusion matrix\"\"\"\n",
    "    confmat = confmat.astype(int)\n",
    "    \n",
    "    if ax is None:\n",
    "        ax = pl.subplot(111)\n",
    "    cmim = ax.matshow(confmat, interpolation='nearest', cmap=cm.jet)\n",
    "\n",
    "    for i in range(confmat.shape[0]):\n",
    "        for j in range(confmat.shape[1]):\n",
    "            ax.annotate(str(confmat[i, j]), xy=(j, i),\n",
    "                        horizontalalignment='center',\n",
    "                        verticalalignment='center',\n",
    "                        fontsize=12,\n",
    "                        color=\"white\",\n",
    "                        weight=\"bold\")\n",
    "\n",
    "    ax.set_xticks(np.arange(confmat.shape[0]))\n",
    "    ax.set_xticklabels([labels_names[l] for l in range(confmat.shape[0])], rotation='horizontal')\n",
    "    ax.set_yticks(np.arange(confmat.shape[1]))\n",
    "    ax.set_yticklabels([labels_names[l] for l in range(confmat.shape[1])])\n",
    "    \n",
    "    ax.set_xlabel('Predicted label')\n",
    "    ax.xaxis.set_label_position('top')\n",
    "    ax.set_ylabel('Target label')\n",
    "    \n",
    "    pl.colorbar(cmim, orientation='vertical', pad=0.05)\n",
    "    pl.plot()"
   ]
  },
  {
   "cell_type": "code",
   "execution_count": null,
   "metadata": {},
   "outputs": [],
   "source": [
    "def compute_f_measure(tp, fp, fn):\n",
    "    \"\"\"Return precision, recall and f-measure\"\"\"\n",
    "    precision = tp / (tp + fp)\n",
    "    recall = tp / (tp + fn)\n",
    "    f_measure = 2 * precision * recall / (precision + recall)\n",
    "    \n",
    "    return precision, recall, f_measure"
   ]
  },
  {
   "cell_type": "code",
   "execution_count": null,
   "metadata": {},
   "outputs": [],
   "source": [
    "# Set initial guesses for parameters\n",
    "N_INITS = 10\n",
    "EPOCHS = 200\n",
    "K = 5\n",
    "LEARNING_RATE = 0.001\n",
    "MOMENTUM = 0.5\n",
    "THRESHOLD = 0.0\n",
    "\n",
    "class NNParameters:\n",
    "    \"\"\"Simple container for neural network model parameters\"\"\"\n",
    "    def __init__(self, n_in, n_out, dataset, K=K, learning_rate=LEARNING_RATE,\n",
    "                 momentum=MOMENTUM, threshold=THRESHOLD, n_inits=N_INITS, n_hidden=2, epochs=EPOCHS):\n",
    "        # Known before exploration\n",
    "        self.n_in = n_in\n",
    "        self.n_out = n_out\n",
    "        self.dataset = dataset\n",
    "        self.K = K\n",
    "        self.learning_rate = learning_rate\n",
    "        self.momentum = momentum\n",
    "        self.threshold = threshold\n",
    "        self.n_inits = n_inits\n",
    "        \n",
    "        # Explore different settings\n",
    "        self.n_hidden = n_hidden\n",
    "        self.epochs = epochs"
   ]
  },
  {
   "cell_type": "markdown",
   "metadata": {},
   "source": [
    "---\n",
    "\n",
    "---\n",
    "\n",
    "## First experiment\n",
    "\n",
    "Man vs Woman. Use only the natural voices of men and women to train a neural network that recognizes the gender of the speaker."
   ]
  },
  {
   "cell_type": "code",
   "execution_count": null,
   "metadata": {},
   "outputs": [
    {
     "name": "stdout",
     "output_type": "stream",
     "text": [
      "72\n"
     ]
    }
   ],
   "source": [
    "# Keep only adult natural voices\n",
    "natural_mf = [s for s in signals if s[2] == 1 and s[3] != 0]\n",
    "print(len(natural_mf))"
   ]
  },
  {
   "cell_type": "code",
   "execution_count": null,
   "metadata": {},
   "outputs": [],
   "source": [
    "# Extract a list of samples and a list of labels\n",
    "ceps = [s[1] for s in natural_mf]\n",
    "labels = [s[3] for s in natural_mf]\n",
    "\n",
    "# Write dataset\n",
    "dataset_nmf = np.array([np.append(s, l) for s, l in zip(ceps, labels)])"
   ]
  },
  {
   "cell_type": "code",
   "execution_count": null,
   "metadata": {},
   "outputs": [
    {
     "name": "stdout",
     "output_type": "stream",
     "text": [
      "Testing 2 neurons...\n",
      "Testing 4 neurons...\n",
      "Testing 8 neurons...\n",
      "Testing 10 neurons...\n"
     ]
    }
   ],
   "source": [
    "# Build initial parameters set\n",
    "nn1 = NNParameters(n_in=13,\n",
    "                   n_out=1,\n",
    "                   dataset=dataset_nmf)\n",
    "\n",
    "explore_nb_epochs(nn1, [2, 4, 8, 10, 12])"
   ]
  },
  {
   "cell_type": "code",
   "execution_count": null,
   "metadata": {},
   "outputs": [],
   "source": [
    "nn1.epochs = 150\n",
    "\n",
    "explore_nb_hidden_neurons(nn1, [2, 4, 8, 10, 12, 15])"
   ]
  },
  {
   "cell_type": "code",
   "execution_count": null,
   "metadata": {},
   "outputs": [],
   "source": [
    "nn1.n_hidden = 8\n",
    "\n",
    "nn, MSE_train, MSE_test, conf_matrix = final_model_performance(nn1)"
   ]
  },
  {
   "cell_type": "code",
   "execution_count": null,
   "metadata": {},
   "outputs": [],
   "source": [
    "print('MSE training: ', MSE_train)\n",
    "print('MSE test: ', MSE_test)\n",
    "\n",
    "tp = conf_matrix[0, 0]\n",
    "fp = conf_matrix[1, 0]\n",
    "fn = conf_matrix[0, 1]\n",
    "precision, recall, f_measure = compute_f_measure(tp, fp, fn)\n",
    "print(\"F-measure for females:\", f_measure)\n",
    "\n",
    "print('Confusion matrix:')\n",
    "plot_confusion_matrix(conf_matrix, [\"Female\", \"Male\"])"
   ]
  },
  {
   "cell_type": "markdown",
   "metadata": {},
   "source": [
    "## Second experiment\n",
    "\n",
    "Man vs Woman, using both natural and synthetic voices."
   ]
  },
  {
   "cell_type": "code",
   "execution_count": null,
   "metadata": {},
   "outputs": [],
   "source": [
    "# Keep only adult voices\n",
    "all_mf = [s for s in signals if s[3] != 0]\n",
    "print(len(all_mf))"
   ]
  },
  {
   "cell_type": "code",
   "execution_count": null,
   "metadata": {},
   "outputs": [],
   "source": [
    "# Extract a list of samples and a list of labels\n",
    "ceps_amf = [s[1] for s in all_mf]\n",
    "labels_amf = [s[3] for s in all_mf]\n",
    "\n",
    "# Write dataset\n",
    "dataset_amf = np.array([np.append(s, l) for s, l in zip(ceps_amf, labels_amf)])"
   ]
  },
  {
   "cell_type": "code",
   "execution_count": null,
   "metadata": {},
   "outputs": [],
   "source": [
    "# Build initial parameters set\n",
    "nn2 = NNParameters(n_in=13,\n",
    "                   n_out=1,\n",
    "                   dataset=dataset_amf)\n",
    "\n",
    "explore_nb_epochs(nn2, [2, 4, 8, 10, 12])"
   ]
  },
  {
   "cell_type": "code",
   "execution_count": null,
   "metadata": {},
   "outputs": [],
   "source": [
    "nn2.epochs = 100\n",
    "\n",
    "explore_nb_hidden_neurons(nn2, [2, 4, 8, 10, 12, 15])"
   ]
  },
  {
   "cell_type": "code",
   "execution_count": null,
   "metadata": {},
   "outputs": [],
   "source": [
    "nn2.n_hidden = 8\n",
    "\n",
    "nn, MSE_train, MSE_test, conf_matrix = final_model_performance(nn2)"
   ]
  },
  {
   "cell_type": "code",
   "execution_count": null,
   "metadata": {},
   "outputs": [],
   "source": [
    "print('MSE training: ', MSE_train)\n",
    "print('MSE test: ', MSE_test)\n",
    "\n",
    "tp = conf_matrix[0, 0]\n",
    "fp = conf_matrix[1, 0]\n",
    "fn = conf_matrix[0, 1]\n",
    "precision, recall, f_measure = compute_f_measure(tp, fp, fn)\n",
    "print(\"F-measure for females:\", f_measure)\n",
    "\n",
    "print('Confusion matrix:')\n",
    "plot_confusion_matrix(conf_matrix, [\"Female\", \"Male\"])"
   ]
  },
  {
   "cell_type": "markdown",
   "metadata": {},
   "source": [
    "## Third experiment\n",
    "\n",
    "Man vs. Woman vs. children."
   ]
  },
  {
   "cell_type": "code",
   "execution_count": null,
   "metadata": {},
   "outputs": [],
   "source": [
    "# Code output using three columns\n",
    "# woman = (1, -1, -1), man = (-1, 1, -1), child = (-1, -1, 1)"
   ]
  },
  {
   "cell_type": "markdown",
   "metadata": {},
   "source": [
    "## Fourth experiment\n",
    "\n",
    "Design a final experiment of your choice (e.g., using your own voice). "
   ]
  }
 ],
 "metadata": {
  "kernelspec": {
   "display_name": "Python 3.7 (mlg-3)",
   "language": "python",
   "name": "tb"
  },
  "language_info": {
   "codemirror_mode": {
    "name": "ipython",
    "version": 3
   },
   "file_extension": ".py",
   "mimetype": "text/x-python",
   "name": "python",
   "nbconvert_exporter": "python",
   "pygments_lexer": "ipython3",
   "version": "3.7.7"
  }
 },
 "nbformat": 4,
 "nbformat_minor": 4
}
